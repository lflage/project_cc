{
 "cells": [
  {
   "attachments": {},
   "cell_type": "markdown",
   "metadata": {},
   "source": [
    "# Dataset Pre-Processing\n",
    "\n",
    "The datasets are here pre-processed and all the more complex emotions are remaped\n",
    "to 5 baseline emotions:\n",
    "- happy  \n",
    "- sad  \n",
    "- angry  \n",
    "- surprised  \n",
    "- neutral  "
   ]
  },
  {
   "cell_type": "code",
   "execution_count": 1,
   "metadata": {},
   "outputs": [],
   "source": [
    "import pandas as pd\n",
    "import re, json\n",
    "\n",
    "pd.set_option('display.max_rows', None)\n",
    "pd.set_option('display.max_columns', None)\n",
    "\n",
    "# happy,sad,neutral,surprised,angry\n"
   ]
  },
  {
   "cell_type": "code",
   "execution_count": 2,
   "metadata": {},
   "outputs": [],
   "source": [
    "def remove_quotation(text):\n",
    "    text = text.strip()\n",
    "    if text.startswith('\"'):\n",
    "        text = text[1:]\n",
    "\n",
    "    if text.endswith(','):\n",
    "        text = text[:-1]\n",
    "    if text.endswith('\"'):\n",
    "        text = text[:-1]\n",
    "    return text\n",
    "\n",
    "\n",
    "def elf_to_df(path):\n",
    "    friends_dict = {}\n",
    "    with open(path, 'r', encoding=\"utf8\") as file:\n",
    "        for line in file.readlines():\n",
    "            line = re.sub(r'[\\[\\]]', \"\", line).strip()\n",
    "            if \":\" in line:\n",
    "                key, value = line.split(':', 1)\n",
    "                key = key.replace(\"\\\"\", \"\").replace(',', \"\")\n",
    "                value = value.replace(r\"\\u0092\", \"'\")\n",
    "                value = value.replace(r\"\\u0085\", \"...\")\n",
    "\n",
    "                value = remove_quotation(value)\n",
    "                if key not in friends_dict.keys():\n",
    "                    friends_dict[key] = []\n",
    "                friends_dict[key].append(value)\n",
    "    return pd.DataFrame(friends_dict)\n",
    "\n",
    "def get_column_name(row):\n",
    "    for column in row.index:\n",
    "        if column != 'text' and row[column] == 1:\n",
    "            return column\n",
    "    return None\n",
    "\n",
    "def json_lines_dump(dic,out_path):\n",
    "    # Convert to a list of JSON strings\n",
    "    json_lines = [json.dumps(l) for l in dic]\n",
    "\n",
    "    # Join lines and save to .jsonl file\n",
    "    json_data = '\\n'.join(json_lines)\n",
    "    with open(out_path, 'w') as f:\n",
    "        f.write(json_data)\n"
   ]
  },
  {
   "attachments": {},
   "cell_type": "markdown",
   "metadata": {},
   "source": [
    "# Emotion lines"
   ]
  },
  {
   "cell_type": "code",
   "execution_count": 3,
   "metadata": {},
   "outputs": [],
   "source": [
    "em_tag_map =  {\n",
    " 'anger' : 'angry',\n",
    " 'disgust':'angry',\n",
    " 'fear':'sad',\n",
    " 'joy':'happy',\n",
    " 'neutral':'neutral',\n",
    " 'non-neutral':'suprise',\n",
    " 'sadness':'sad',\n",
    " 'surprise':'surprise'}"
   ]
  },
  {
   "cell_type": "code",
   "execution_count": 4,
   "metadata": {},
   "outputs": [],
   "source": [
    "# for key, value in friends_dict.items():\n",
    "#   print(key, value)\n",
    "#   print('\\n')\n",
    "df = elf_to_df(\"./datasets/raw/EmotionLines/Friends/friends_dev.json\")\n",
    "df1 = elf_to_df(\"./datasets/raw/EmotionLines/Friends/friends_test.json\")\n",
    "df2 = elf_to_df(\"./datasets/raw/EmotionLines/Friends/friends_train.json\")\n"
   ]
  },
  {
   "cell_type": "code",
   "execution_count": 5,
   "metadata": {},
   "outputs": [],
   "source": [
    "eml_df = pd.concat([df,df1,df2])"
   ]
  },
  {
   "cell_type": "code",
   "execution_count": 6,
   "metadata": {},
   "outputs": [
    {
     "data": {
      "text/plain": [
       "Index(['speaker', 'utterance', 'emotion', 'annotation'], dtype='object')"
      ]
     },
     "execution_count": 6,
     "metadata": {},
     "output_type": "execute_result"
    }
   ],
   "source": [
    "eml_df.columns"
   ]
  },
  {
   "cell_type": "code",
   "execution_count": 7,
   "metadata": {},
   "outputs": [
    {
     "data": {
      "text/html": [
       "<div>\n",
       "<style scoped>\n",
       "    .dataframe tbody tr th:only-of-type {\n",
       "        vertical-align: middle;\n",
       "    }\n",
       "\n",
       "    .dataframe tbody tr th {\n",
       "        vertical-align: top;\n",
       "    }\n",
       "\n",
       "    .dataframe thead th {\n",
       "        text-align: right;\n",
       "    }\n",
       "</style>\n",
       "<table border=\"1\" class=\"dataframe\">\n",
       "  <thead>\n",
       "    <tr style=\"text-align: right;\">\n",
       "      <th></th>\n",
       "      <th>text</th>\n",
       "      <th>EmotionTag</th>\n",
       "    </tr>\n",
       "  </thead>\n",
       "  <tbody>\n",
       "    <tr>\n",
       "      <th>0</th>\n",
       "      <td>Oh my God, he's lost it. He's totally lost it.</td>\n",
       "      <td>non-neutral</td>\n",
       "    </tr>\n",
       "    <tr>\n",
       "      <th>1</th>\n",
       "      <td>What?</td>\n",
       "      <td>surprise</td>\n",
       "    </tr>\n",
       "    <tr>\n",
       "      <th>2</th>\n",
       "      <td>Or! Or, we could go to the bank, close our acc...</td>\n",
       "      <td>neutral</td>\n",
       "    </tr>\n",
       "    <tr>\n",
       "      <th>3</th>\n",
       "      <td>You're a genius!</td>\n",
       "      <td>joy</td>\n",
       "    </tr>\n",
       "    <tr>\n",
       "      <th>4</th>\n",
       "      <td>Aww, man, now we won't be bank buddies!</td>\n",
       "      <td>sadness</td>\n",
       "    </tr>\n",
       "  </tbody>\n",
       "</table>\n",
       "</div>"
      ],
      "text/plain": [
       "                                                text   EmotionTag\n",
       "0     Oh my God, he's lost it. He's totally lost it.  non-neutral\n",
       "1                                              What?     surprise\n",
       "2  Or! Or, we could go to the bank, close our acc...      neutral\n",
       "3                                   You're a genius!          joy\n",
       "4            Aww, man, now we won't be bank buddies!      sadness"
      ]
     },
     "execution_count": 7,
     "metadata": {},
     "output_type": "execute_result"
    }
   ],
   "source": [
    "eml_df.drop(columns=['speaker','annotation'],inplace=True)\n",
    "eml_df = eml_df.rename(mapper={'emotion':'EmotionTag','utterance':'text'},axis=1)\n",
    "eml_df.dropna(inplace=True)\n",
    "eml_df.head()"
   ]
  },
  {
   "cell_type": "code",
   "execution_count": 8,
   "metadata": {},
   "outputs": [],
   "source": [
    "eml_df['EmotionTag'] = eml_df['EmotionTag'].map(em_tag_map)"
   ]
  },
  {
   "cell_type": "code",
   "execution_count": 9,
   "metadata": {},
   "outputs": [],
   "source": [
    "em_dict = eml_df.to_dict(orient='records')\n"
   ]
  },
  {
   "cell_type": "code",
   "execution_count": 10,
   "metadata": {},
   "outputs": [],
   "source": [
    "json_lines_dump(em_dict,'./datasets/processed/emotion_lines.jsonl')"
   ]
  },
  {
   "attachments": {},
   "cell_type": "markdown",
   "metadata": {},
   "source": [
    "# Empathetic Dialogs"
   ]
  },
  {
   "cell_type": "code",
   "execution_count": 11,
   "metadata": {},
   "outputs": [
    {
     "name": "stderr",
     "output_type": "stream",
     "text": [
      "/opt/conda/lib/python3.8/site-packages/tqdm/auto.py:22: TqdmWarning: IProgress not found. Please update jupyter and ipywidgets. See https://ipywidgets.readthedocs.io/en/stable/user_install.html\n",
      "  from .autonotebook import tqdm as notebook_tqdm\n"
     ]
    }
   ],
   "source": [
    "from datasets import load_dataset\n",
    "\n",
    "emp_tag_map = {'anticipating':'happy', 'impressed':'happy',\n",
    "                'guilty':'sad', 'surprised':'surprised', \n",
    "                'furious':'angry', 'excited':'happy', 'sad':'sad',\n",
    "                'afraid':'sad', 'confident':'happy', 'grateful':'happy',\n",
    "                'disgusted':'sad', 'jealous':'sad', 'faithful':'happy', \n",
    "                'trusting':'happy', 'prepared':'happy', 'joyful':'happy',\n",
    "                'embarrassed':'sad', 'lonely':'sad', 'ashamed':'sad',\n",
    "                'devastated':'sad', 'caring':'neutral', 'sentimental':'neutral', \n",
    "                'nostalgic':'neutral', 'hopeful':'happy', 'apprehensive':'sad',\n",
    "                'angry':'angry', 'annoyed':'angry', 'anxious':'sad', \n",
    "                'content':'happy', 'terrified':'sad', 'proud':'happy',\n",
    "                'disappointed':'neutral'}"
   ]
  },
  {
   "cell_type": "code",
   "execution_count": 12,
   "metadata": {},
   "outputs": [
    {
     "name": "stderr",
     "output_type": "stream",
     "text": [
      "Found cached dataset empathetic_dialogues (/root/.cache/huggingface/datasets/empathetic_dialogues/default/0.1.0/09bbeed3882a67db98c73952fb3c1c9a85af83dc78f81454c2454382fd03f6cf)\n",
      "100%|██████████| 3/3 [00:00<00:00, 140.22it/s]\n"
     ]
    }
   ],
   "source": [
    "ds = load_dataset('empathetic_dialogues')"
   ]
  },
  {
   "cell_type": "code",
   "execution_count": 13,
   "metadata": {},
   "outputs": [],
   "source": [
    "empdio_dict = []\n",
    "for j in ds:\n",
    "    for i in ds[j]:\n",
    "        empdio_dict.append({'text': i['utterance'].replace('_comma_',', '),\n",
    "                        'EmotionTag': emp_tag_map[i[\"context\"]]})\n",
    "\n"
   ]
  },
  {
   "cell_type": "code",
   "execution_count": 14,
   "metadata": {},
   "outputs": [],
   "source": [
    "json_lines_dump(empdio_dict,'./datasets/processed/empathetic_dialogue.jsonl')"
   ]
  },
  {
   "attachments": {},
   "cell_type": "markdown",
   "metadata": {},
   "source": [
    "# GoEmotions"
   ]
  },
  {
   "cell_type": "code",
   "execution_count": 15,
   "metadata": {},
   "outputs": [],
   "source": [
    "goemotion_tag_map = {'admiration':'happy',\n",
    " 'amusement':'surprised',\n",
    " 'anger': 'angry', \n",
    " 'annoyance':'angry',\n",
    " 'approval':'happy',\n",
    " 'caring':'happy',\n",
    " 'confusion':'sad',\n",
    " 'curiosity':'happy',\n",
    " 'desire':'neutral',\n",
    " 'disappointment':'sad',\n",
    " 'disapproval':'angry',\n",
    " 'disgust':'angry',\n",
    " 'embarrassment':'sad',\n",
    " 'excitement':'happy',\n",
    " 'fear':'sad',\n",
    " 'gratitude':'happy',\n",
    " 'grief':'sad',\n",
    " 'joy':'sad',\n",
    " 'love':'happy',\n",
    " 'nervousness':'surprised',\n",
    " 'neutral':'neutral',\n",
    " 'optimism':'neutral',\n",
    " 'pride':'neutral',\n",
    " 'realization':'neutral',\n",
    " 'relief':'neutral',\n",
    " 'remorse':'sad',\n",
    " 'sadness':'sad',\n",
    " 'surprise':'surprise'}"
   ]
  },
  {
   "cell_type": "code",
   "execution_count": 16,
   "metadata": {},
   "outputs": [],
   "source": [
    "go1 = pd.read_csv('./datasets/raw/GoEmotions/data/full_dataset/goemotions_1.csv')\n",
    "go2 = pd.read_csv('./datasets/raw/GoEmotions/data/full_dataset/goemotions_2.csv')\n",
    "go3 = pd.read_csv('./datasets/raw/GoEmotions/data/full_dataset/goemotions_3.csv')\n",
    "\n",
    "go_df = pd.concat([go1,go2,go3])\n",
    "\n",
    "go_df = go_df.drop(columns=['id', 'author', 'subreddit', 'link_id', 'parent_id',\n",
    "       'created_utc', 'rater_id', 'example_very_unclear'])\n"
   ]
  },
  {
   "cell_type": "code",
   "execution_count": 17,
   "metadata": {},
   "outputs": [],
   "source": [
    "go_df['EmotionTag'] = go_df.apply(lambda row: get_column_name(row), axis=1)"
   ]
  },
  {
   "cell_type": "code",
   "execution_count": 18,
   "metadata": {},
   "outputs": [],
   "source": [
    "go_df = go_df.drop(columns=['admiration', 'amusement', 'anger', 'annoyance', 'approval',\n",
    "       'caring', 'confusion', 'curiosity', 'desire', 'disappointment',\n",
    "       'disapproval', 'disgust', 'embarrassment', 'excitement', 'fear',\n",
    "       'gratitude', 'grief', 'joy', 'love', 'nervousness', 'optimism', 'pride',\n",
    "       'realization', 'relief', 'remorse', 'sadness', 'surprise', 'neutral'])"
   ]
  },
  {
   "cell_type": "code",
   "execution_count": 19,
   "metadata": {},
   "outputs": [],
   "source": [
    "go_df.dropna(inplace=True)"
   ]
  },
  {
   "cell_type": "code",
   "execution_count": 20,
   "metadata": {},
   "outputs": [],
   "source": [
    "go_df['EmotionTag'] = go_df['EmotionTag'].map(goemotion_tag_map)"
   ]
  },
  {
   "cell_type": "code",
   "execution_count": 21,
   "metadata": {},
   "outputs": [],
   "source": [
    "go_dict = go_df.to_dict(orient='records')"
   ]
  },
  {
   "cell_type": "code",
   "execution_count": 22,
   "metadata": {},
   "outputs": [],
   "source": [
    "json_lines_dump(go_dict,'./datasets/processed/go_emotions.jsonl')"
   ]
  },
  {
   "cell_type": "markdown",
   "metadata": {},
   "source": [
    "# Concatenating"
   ]
  },
  {
   "cell_type": "code",
   "execution_count": 28,
   "metadata": {},
   "outputs": [],
   "source": [
    "# concat_dict={}\n",
    "from itertools import chain\n",
    "\n",
    "concat_dicts = []\n",
    "concat_dicts.append([go_dict,empdio_dict,em_dict])\n",
    "final = chain(*concat_dicts)\n",
    "# concat_dicts = go_dict.extend(empdio_dict)\n",
    "# concat_dicts.extend(em_dict)\n",
    "# assert len(concat_dicts) == len(empdio_dict)+len(go_dict)+len(em_dict)"
   ]
  },
  {
   "cell_type": "code",
   "execution_count": 29,
   "metadata": {},
   "outputs": [
    {
     "name": "stdout",
     "output_type": "stream",
     "text": [
      "321963\n"
     ]
    }
   ],
   "source": [
    "final = list(chain(*final))\n",
    "print(len(final))\n",
    "assert len(final)== len(go_dict) + len(empdio_dict) + len(em_dict)"
   ]
  },
  {
   "cell_type": "code",
   "execution_count": null,
   "metadata": {},
   "outputs": [],
   "source": [
    "json_lines_dump(final,'./datasets/processed/emotions_ds.json')"
   ]
  },
  {
   "cell_type": "code",
   "execution_count": 26,
   "metadata": {},
   "outputs": [],
   "source": [
    "# empdio_dict"
   ]
  },
  {
   "cell_type": "code",
   "execution_count": null,
   "metadata": {},
   "outputs": [],
   "source": []
  }
 ],
 "metadata": {
  "kernelspec": {
   "display_name": "base",
   "language": "python",
   "name": "python3"
  },
  "language_info": {
   "codemirror_mode": {
    "name": "ipython",
    "version": 3
   },
   "file_extension": ".py",
   "mimetype": "text/x-python",
   "name": "python",
   "nbconvert_exporter": "python",
   "pygments_lexer": "ipython3",
   "version": "3.8.12 | packaged by conda-forge | (default, Jan 30 2022, 23:42:07) \n[GCC 9.4.0]"
  },
  "orig_nbformat": 4,
  "vscode": {
   "interpreter": {
    "hash": "d4d1e4263499bec80672ea0156c357c1ee493ec2b1c70f0acce89fc37c4a6abe"
   }
  }
 },
 "nbformat": 4,
 "nbformat_minor": 2
}
