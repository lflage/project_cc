{
 "cells": [
  {
   "cell_type": "code",
   "execution_count": 1,
   "metadata": {},
   "outputs": [],
   "source": [
    "import pandas as pd\n",
    "import re\n",
    "\n",
    "pd.set_option('display.max_rows', None)\n",
    "pd.set_option('display.max_columns', None)\n"
   ]
  },
  {
   "cell_type": "code",
   "execution_count": 3,
   "metadata": {},
   "outputs": [],
   "source": [
    "def remove_quotation(text):\n",
    "    text = text.strip()\n",
    "    if text.startswith('\"'):\n",
    "        text = text[1:]\n",
    "\n",
    "    if text.endswith(','):\n",
    "        text = text[:-1]\n",
    "    if text.endswith('\"'):\n",
    "        text = text[:-1]\n",
    "    return text\n",
    "\n",
    "\n",
    "def elf_to_df(path):\n",
    "    friends_dict = {}\n",
    "    with open(path, 'r', encoding=\"utf8\") as file:\n",
    "        for line in file.readlines():\n",
    "            line = re.sub(r'[\\[\\]]', \"\", line).strip()\n",
    "            if \":\" in line:\n",
    "                key, value = line.split(':', 1)\n",
    "                key = key.replace(\"\\\"\", \"\").replace(',', \"\")\n",
    "                value = value.replace(r\"\\u0092\", \"'\")\n",
    "                value = value.replace(r\"\\u0085\", \"...\")\n",
    "\n",
    "                value = remove_quotation(value)\n",
    "                if key not in friends_dict.keys():\n",
    "                    friends_dict[key] = []\n",
    "                friends_dict[key].append(value)\n",
    "    return pd.DataFrame(friends_dict)\n",
    "\n",
    "def get_column_name(row):\n",
    "    for column in row.index:\n",
    "        if column != 'text' and row[column] == 1:\n",
    "            return column\n",
    "    return None\n"
   ]
  },
  {
   "attachments": {},
   "cell_type": "markdown",
   "metadata": {},
   "source": [
    "# Emotion lines"
   ]
  },
  {
   "cell_type": "code",
   "execution_count": 48,
   "metadata": {},
   "outputs": [],
   "source": [
    "# for key, value in friends_dict.items():\n",
    "#   print(key, value)\n",
    "#   print('\\n')\n",
    "df = elf_to_df(\"./raw/EmotionLines/Friends/friends_dev.json\")\n",
    "df1 = elf_to_df(\"./raw/EmotionLines/Friends/friends_test.json\")\n",
    "df2 = elf_to_df(\"./raw/EmotionLines/Friends/friends_train.json\")\n"
   ]
  },
  {
   "cell_type": "code",
   "execution_count": 52,
   "metadata": {},
   "outputs": [],
   "source": [
    "em_df = pd.concat([df,df1,df2])"
   ]
  },
  {
   "cell_type": "code",
   "execution_count": 53,
   "metadata": {},
   "outputs": [
    {
     "data": {
      "text/plain": [
       "Index(['speaker', 'utterance', 'emotion', 'annotation'], dtype='object')"
      ]
     },
     "execution_count": 53,
     "metadata": {},
     "output_type": "execute_result"
    }
   ],
   "source": [
    "em_df.columns"
   ]
  },
  {
   "cell_type": "code",
   "execution_count": 56,
   "metadata": {},
   "outputs": [
    {
     "data": {
      "text/html": [
       "<div>\n",
       "<style scoped>\n",
       "    .dataframe tbody tr th:only-of-type {\n",
       "        vertical-align: middle;\n",
       "    }\n",
       "\n",
       "    .dataframe tbody tr th {\n",
       "        vertical-align: top;\n",
       "    }\n",
       "\n",
       "    .dataframe thead th {\n",
       "        text-align: right;\n",
       "    }\n",
       "</style>\n",
       "<table border=\"1\" class=\"dataframe\">\n",
       "  <thead>\n",
       "    <tr style=\"text-align: right;\">\n",
       "      <th></th>\n",
       "      <th>utterance</th>\n",
       "      <th>emotion</th>\n",
       "    </tr>\n",
       "  </thead>\n",
       "  <tbody>\n",
       "    <tr>\n",
       "      <th>0</th>\n",
       "      <td>Oh my God, he's lost it. He's totally lost it.</td>\n",
       "      <td>non-neutral</td>\n",
       "    </tr>\n",
       "    <tr>\n",
       "      <th>1</th>\n",
       "      <td>What?</td>\n",
       "      <td>surprise</td>\n",
       "    </tr>\n",
       "    <tr>\n",
       "      <th>2</th>\n",
       "      <td>Or! Or, we could go to the bank, close our acc...</td>\n",
       "      <td>neutral</td>\n",
       "    </tr>\n",
       "    <tr>\n",
       "      <th>3</th>\n",
       "      <td>You're a genius!</td>\n",
       "      <td>joy</td>\n",
       "    </tr>\n",
       "    <tr>\n",
       "      <th>4</th>\n",
       "      <td>Aww, man, now we won't be bank buddies!</td>\n",
       "      <td>sadness</td>\n",
       "    </tr>\n",
       "  </tbody>\n",
       "</table>\n",
       "</div>"
      ],
      "text/plain": [
       "                                           utterance      emotion\n",
       "0     Oh my God, he's lost it. He's totally lost it.  non-neutral\n",
       "1                                              What?     surprise\n",
       "2  Or! Or, we could go to the bank, close our acc...      neutral\n",
       "3                                   You're a genius!          joy\n",
       "4            Aww, man, now we won't be bank buddies!      sadness"
      ]
     },
     "execution_count": 56,
     "metadata": {},
     "output_type": "execute_result"
    }
   ],
   "source": [
    "em_df.drop(columns=['speaker','annotation'],inplace=True)\n",
    "em_df.head()"
   ]
  },
  {
   "cell_type": "code",
   "execution_count": 57,
   "metadata": {},
   "outputs": [
    {
     "name": "stdout",
     "output_type": "stream",
     "text": [
      "[{'utterance': \"Oh my God, he's lost it. He's totally lost it.\", 'emotion': 'non-neutral'}, {'utterance': 'What?', 'emotion': 'surprise'}, {'utterance': 'Or! Or, we could go to the bank, close our accounts and cut them off at the source.', 'emotion': 'neutral'}]\n"
     ]
    }
   ],
   "source": [
    "em_dict = em_df.to_dict(orient='records')\n",
    "print(em_dict[:3])"
   ]
  },
  {
   "attachments": {},
   "cell_type": "markdown",
   "metadata": {},
   "source": [
    "# Empathetic Dialogs"
   ]
  },
  {
   "cell_type": "code",
   "execution_count": null,
   "metadata": {},
   "outputs": [],
   "source": [
    "from datasets import load_dataset"
   ]
  },
  {
   "cell_type": "code",
   "execution_count": null,
   "metadata": {},
   "outputs": [],
   "source": [
    "ds = load_dataset('empathetic_dialogues')"
   ]
  },
  {
   "cell_type": "code",
   "execution_count": null,
   "metadata": {},
   "outputs": [],
   "source": [
    "val_ds = ds['validation']\n",
    "ant_ds = val_ds.filter(lambda x:x['context']=='faithful')"
   ]
  },
  {
   "cell_type": "code",
   "execution_count": null,
   "metadata": {},
   "outputs": [],
   "source": [
    "ant_ds[\"utterance\"][0:10]"
   ]
  },
  {
   "cell_type": "code",
   "execution_count": null,
   "metadata": {},
   "outputs": [],
   "source": [
    "emp_tag_map = {'anticipating':'happy', 'impressed':'happy',\n",
    "                'guilty':'sad', 'surprised':'surprised', \n",
    "                'furious':'angry', 'excited':'happy', 'sad':'sad',\n",
    "                'afraid':'sad', 'confident':'happy', 'grateful':'happy',\n",
    "                'disgusted':'sad', 'jealous':'sad', 'faithful':'happy', \n",
    "                'trusting':'happy', 'prepared':'happy', 'joyful':'happy',\n",
    "                'embarrassed':'sad', 'lonely':'sad', 'ashamed':'sad',\n",
    "                'devastated':'sad', 'caring':'neutral', 'sentimental':'neutral', \n",
    "                'nostalgic':'neutral', 'hopeful':'happy', 'apprehensive':'sad',\n",
    "                'angry':'angry', 'annoyed':'angry', 'anxious':'sad', \n",
    "                'content':'happy', 'terrified':'sad', 'proud':'happy',\n",
    "                'disappointed':'neutral'}\n"
   ]
  },
  {
   "cell_type": "code",
   "execution_count": null,
   "metadata": {},
   "outputs": [],
   "source": [
    "# val_dict = dict.fromkeys(set(ds['train'][\"context\"]),\"\")\n",
    "val_tup = []\n",
    "for i in ds['validation']:\n",
    "    val_tup.append({'context': emp_tag_map[i[\"context\"]],\n",
    "                    'text': i['utterance'].replace('_comma_',', ')})"
   ]
  },
  {
   "attachments": {},
   "cell_type": "markdown",
   "metadata": {},
   "source": [
    "# GoEmotions"
   ]
  },
  {
   "cell_type": "code",
   "execution_count": 40,
   "metadata": {},
   "outputs": [],
   "source": [
    "goemotion_tag_map = {'admiration':'happy',\n",
    " 'amusement':'surprised',\n",
    " 'anger': 'angry', \n",
    " 'annoyance':'angry',\n",
    " 'approval':'happy',\n",
    " 'caring':'happy',\n",
    " 'confusion':'sad',\n",
    " 'curiosity':'happy',\n",
    " 'desire':'neutral',\n",
    " 'disappointment':'sad',\n",
    " 'disapproval':'angry',\n",
    " 'disgust':'angry',\n",
    " 'embarrassment':'sad',\n",
    " 'excitement':'happy',\n",
    " 'fear':'sad',\n",
    " 'gratitude':'happy',\n",
    " 'grief':'sad',\n",
    " 'joy':'sad',\n",
    " 'love':'happy',\n",
    " 'nervousness':'surprised',\n",
    " 'neutral':'neutral',\n",
    " 'optimism':'neutral',\n",
    " 'pride':'neutral',\n",
    " 'realization':'neutral',\n",
    " 'relief':'neutral',\n",
    " 'remorse':'sad',\n",
    " 'sadness':'sad',\n",
    " 'surprise':'surprise'}"
   ]
  },
  {
   "cell_type": "code",
   "execution_count": 33,
   "metadata": {},
   "outputs": [],
   "source": [
    "go1 = pd.read_csv('./raw/GoEmotions/data/full_dataset/goemotions_1.csv')\n",
    "go2 = pd.read_csv('./raw/GoEmotions/data/full_dataset/goemotions_2.csv')\n",
    "go3 = pd.read_csv('./raw/GoEmotions/data/full_dataset/goemotions_3.csv')\n",
    "\n",
    "go_df = pd.concat([go1,go2,go3])\n",
    "\n",
    "go_df = go_df.drop(columns=['id', 'author', 'subreddit', 'link_id', 'parent_id',\n",
    "       'created_utc', 'rater_id', 'example_very_unclear'])\n"
   ]
  },
  {
   "cell_type": "code",
   "execution_count": 34,
   "metadata": {},
   "outputs": [],
   "source": [
    "go_df['EmotionTag'] = go_df.apply(lambda row: get_column_name(row), axis=1)"
   ]
  },
  {
   "cell_type": "code",
   "execution_count": 35,
   "metadata": {},
   "outputs": [],
   "source": [
    "go_df = go_df.drop(columns=['admiration', 'amusement', 'anger', 'annoyance', 'approval',\n",
    "       'caring', 'confusion', 'curiosity', 'desire', 'disappointment',\n",
    "       'disapproval', 'disgust', 'embarrassment', 'excitement', 'fear',\n",
    "       'gratitude', 'grief', 'joy', 'love', 'nervousness', 'optimism', 'pride',\n",
    "       'realization', 'relief', 'remorse', 'sadness', 'surprise', 'neutral'])"
   ]
  },
  {
   "cell_type": "code",
   "execution_count": 36,
   "metadata": {},
   "outputs": [],
   "source": [
    "go_df.dropna(inplace=True)"
   ]
  },
  {
   "cell_type": "code",
   "execution_count": 43,
   "metadata": {},
   "outputs": [],
   "source": [
    "go_df['EmotionTag'] = go_df['EmotionTag'].map(goemotion_tag_map)"
   ]
  },
  {
   "cell_type": "code",
   "execution_count": 45,
   "metadata": {},
   "outputs": [],
   "source": [
    "go_dict = go_df.to_dict(orient='records')"
   ]
  },
  {
   "cell_type": "code",
   "execution_count": 47,
   "metadata": {},
   "outputs": [
    {
     "data": {
      "text/plain": [
       "[{'text': 'That game hurt.', 'EmotionTag': 'sad'},\n",
       " {'text': \"You do right, if you don't care then fuck 'em!\",\n",
       "  'EmotionTag': 'neutral'}]"
      ]
     },
     "execution_count": 47,
     "metadata": {},
     "output_type": "execute_result"
    }
   ],
   "source": [
    "go_dict[:2]"
   ]
  }
 ],
 "metadata": {
  "kernelspec": {
   "display_name": "py38",
   "language": "python",
   "name": "python3"
  },
  "language_info": {
   "codemirror_mode": {
    "name": "ipython",
    "version": 3
   },
   "file_extension": ".py",
   "mimetype": "text/x-python",
   "name": "python",
   "nbconvert_exporter": "python",
   "pygments_lexer": "ipython3",
   "version": "3.8.13"
  },
  "orig_nbformat": 4
 },
 "nbformat": 4,
 "nbformat_minor": 2
}
