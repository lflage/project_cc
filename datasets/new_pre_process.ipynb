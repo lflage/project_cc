{
 "cells": [
  {
   "cell_type": "code",
   "execution_count": 2,
   "metadata": {},
   "outputs": [],
   "source": [
    "import pandas as pd\n",
    "import re\n",
    "\n",
    "pd.set_option('display.max_rows', None)"
   ]
  },
  {
   "cell_type": "code",
   "execution_count": 3,
   "metadata": {},
   "outputs": [],
   "source": [
    "def remove_quotation(text):\n",
    "    text = text.strip()\n",
    "    if text.startswith('\"'):\n",
    "        text = text[1:]\n",
    "\n",
    "    if text.endswith(','):\n",
    "        text = text[:-1]\n",
    "    if text.endswith('\"'):\n",
    "        text = text[:-1]\n",
    "    return text\n",
    "\n",
    "\n",
    "def elf_to_df(path):\n",
    "    friends_dict = {}\n",
    "    with open(path, 'r', encoding=\"utf8\") as file:\n",
    "        for line in file.readlines():\n",
    "            line = re.sub(r'[\\[\\]]', \"\", line).strip()\n",
    "            if \":\" in line:\n",
    "                key, value = line.split(':', 1)\n",
    "                key = key.replace(\"\\\"\", \"\").replace(',', \"\")\n",
    "                value = value.replace(r\"\\u0092\", \"'\")\n",
    "                value = value.replace(r\"\\u0085\", \"...\")\n",
    "\n",
    "                value = remove_quotation(value)\n",
    "                if key not in friends_dict.keys():\n",
    "                    friends_dict[key] = []\n",
    "                friends_dict[key].append(value)\n",
    "    return pd.DataFrame(friends_dict)"
   ]
  },
  {
   "attachments": {},
   "cell_type": "markdown",
   "metadata": {},
   "source": [
    "# Emotion lines"
   ]
  },
  {
   "cell_type": "code",
   "execution_count": 4,
   "metadata": {},
   "outputs": [],
   "source": [
    "# for key, value in friends_dict.items():\n",
    "#   print(key, value)\n",
    "#   print('\\n')\n",
    "df = elf_to_df(\"./raw/EmotionLines/Friends/friends_dev.json\")\n",
    "df1 = elf_to_df(\"./raw/EmotionLines/Friends/friends_test.json\")\n",
    "df2 = elf_to_df(\"./raw/EmotionLines/Friends/friends_train.json\")\n"
   ]
  },
  {
   "cell_type": "code",
   "execution_count": 9,
   "metadata": {},
   "outputs": [
    {
     "data": {
      "text/html": [
       "<div>\n",
       "<style scoped>\n",
       "    .dataframe tbody tr th:only-of-type {\n",
       "        vertical-align: middle;\n",
       "    }\n",
       "\n",
       "    .dataframe tbody tr th {\n",
       "        vertical-align: top;\n",
       "    }\n",
       "\n",
       "    .dataframe thead th {\n",
       "        text-align: right;\n",
       "    }\n",
       "</style>\n",
       "<table border=\"1\" class=\"dataframe\">\n",
       "  <thead>\n",
       "    <tr style=\"text-align: right;\">\n",
       "      <th></th>\n",
       "      <th>speaker</th>\n",
       "      <th>utterance</th>\n",
       "      <th>emotion</th>\n",
       "      <th>annotation</th>\n",
       "    </tr>\n",
       "  </thead>\n",
       "  <tbody>\n",
       "    <tr>\n",
       "      <th>0</th>\n",
       "      <td>Phoebe</td>\n",
       "      <td>Oh my God, he's lost it. He's totally lost it.</td>\n",
       "      <td>non-neutral</td>\n",
       "      <td>0002120</td>\n",
       "    </tr>\n",
       "    <tr>\n",
       "      <th>1</th>\n",
       "      <td>Monica</td>\n",
       "      <td>What?</td>\n",
       "      <td>surprise</td>\n",
       "      <td>1000130</td>\n",
       "    </tr>\n",
       "    <tr>\n",
       "      <th>2</th>\n",
       "      <td>Ross</td>\n",
       "      <td>Or! Or, we could go to the bank, close our acc...</td>\n",
       "      <td>neutral</td>\n",
       "      <td>3000200</td>\n",
       "    </tr>\n",
       "    <tr>\n",
       "      <th>3</th>\n",
       "      <td>Chandler</td>\n",
       "      <td>You're a genius!</td>\n",
       "      <td>joy</td>\n",
       "      <td>0500000</td>\n",
       "    </tr>\n",
       "    <tr>\n",
       "      <th>4</th>\n",
       "      <td>Joey</td>\n",
       "      <td>Aww, man, now we won't be bank buddies!</td>\n",
       "      <td>sadness</td>\n",
       "      <td>0040100</td>\n",
       "    </tr>\n",
       "  </tbody>\n",
       "</table>\n",
       "</div>"
      ],
      "text/plain": [
       "    speaker                                          utterance      emotion  \\\n",
       "0    Phoebe     Oh my God, he's lost it. He's totally lost it.  non-neutral   \n",
       "1    Monica                                              What?     surprise   \n",
       "2      Ross  Or! Or, we could go to the bank, close our acc...      neutral   \n",
       "3  Chandler                                   You're a genius!          joy   \n",
       "4      Joey            Aww, man, now we won't be bank buddies!      sadness   \n",
       "\n",
       "  annotation  \n",
       "0    0002120  \n",
       "1    1000130  \n",
       "2    3000200  \n",
       "3    0500000  \n",
       "4    0040100  "
      ]
     },
     "execution_count": 9,
     "metadata": {},
     "output_type": "execute_result"
    }
   ],
   "source": [
    "df.head()"
   ]
  },
  {
   "attachments": {},
   "cell_type": "markdown",
   "metadata": {},
   "source": [
    "# Empathetic Dialogs"
   ]
  },
  {
   "cell_type": "code",
   "execution_count": 4,
   "metadata": {},
   "outputs": [],
   "source": [
    "from datasets import load_dataset"
   ]
  },
  {
   "cell_type": "code",
   "execution_count": 5,
   "metadata": {},
   "outputs": [
    {
     "name": "stderr",
     "output_type": "stream",
     "text": [
      "/home/lucasfl/anaconda3/envs/py38/lib/python3.8/site-packages/scipy/__init__.py:146: UserWarning: A NumPy version >=1.16.5 and <1.23.0 is required for this version of SciPy (detected version 1.23.1\n",
      "  warnings.warn(f\"A NumPy version >={np_minversion} and <{np_maxversion}\"\n",
      "Found cached dataset empathetic_dialogues (/home/lucasfl/.cache/huggingface/datasets/empathetic_dialogues/default/0.1.0/09bbeed3882a67db98c73952fb3c1c9a85af83dc78f81454c2454382fd03f6cf)\n"
     ]
    },
    {
     "data": {
      "application/vnd.jupyter.widget-view+json": {
       "model_id": "e4ca640bef744f558cc0b1bc3aa84be7",
       "version_major": 2,
       "version_minor": 0
      },
      "text/plain": [
       "  0%|          | 0/3 [00:00<?, ?it/s]"
      ]
     },
     "metadata": {},
     "output_type": "display_data"
    }
   ],
   "source": [
    "ds = load_dataset('empathetic_dialogues')"
   ]
  },
  {
   "cell_type": "code",
   "execution_count": 63,
   "metadata": {},
   "outputs": [
    {
     "data": {
      "application/vnd.jupyter.widget-view+json": {
       "model_id": "423aec000b604e79a00a4e8d67e65d52",
       "version_major": 2,
       "version_minor": 0
      },
      "text/plain": [
       "Filter:   0%|          | 0/12030 [00:00<?, ? examples/s]"
      ]
     },
     "metadata": {},
     "output_type": "display_data"
    }
   ],
   "source": [
    "val_ds = ds['validation']\n",
    "ant_ds = val_ds.filter(lambda x:x['context']=='faithful')"
   ]
  },
  {
   "cell_type": "code",
   "execution_count": 64,
   "metadata": {},
   "outputs": [
    {
     "data": {
      "text/plain": [
       "[\"My girlfriend hasn't talked to me in a few days and I'm struggling to keep it together but I am at the moment.\",\n",
       " 'Have you tried to call her?',\n",
       " \"I have_comma_ but she's going through a rough time and likes to seclude herself.\",\n",
       " 'Maybe give her space.',\n",
       " 'Do you have faithful friends?',\n",
       " 'Yeah_comma_but very few.',\n",
       " 'Why is that the case?',\n",
       " 'Most of my friend have had in the past just wanted to benefit from our relationship_comma_it was not genuine.',\n",
       " 'I have never cheated on my girlfriend not even once',\n",
       " \"That's great. I'm trying to get a girlfriend right now :/\"]"
      ]
     },
     "execution_count": 64,
     "metadata": {},
     "output_type": "execute_result"
    }
   ],
   "source": [
    "ant_ds[\"utterance\"][0:10]"
   ]
  },
  {
   "cell_type": "code",
   "execution_count": 9,
   "metadata": {},
   "outputs": [],
   "source": [
    "emp_tag_map = {'anticipating':'happy', 'impressed':'happy',\n",
    "                'guilty':'sad', 'surprised':'surprised', \n",
    "                'furious':'angry', 'excited':'happy', 'sad':'sad',\n",
    "                'afraid':'sad', 'confident':'happy', 'grateful':'happy',\n",
    "                'disgusted':'sad', 'jealous':'sad', 'faithful':'happy', \n",
    "                'trusting':'happy', 'prepared':'happy', 'joyful':'happy',\n",
    "                'embarrassed':'sad', 'lonely':'sad', 'ashamed':'sad',\n",
    "                'devastated':'sad', 'caring':'neutral', 'sentimental':'neutral', \n",
    "                'nostalgic':'neutral', 'hopeful':'happy', 'apprehensive':'sad',\n",
    "                'angry':'angry', 'annoyed':'angry', 'anxious':'sad', \n",
    "                'content':'happy', 'terrified':'sad', 'proud':'happy',\n",
    "                'disappointed':'neutral'}\n"
   ]
  },
  {
   "cell_type": "code",
   "execution_count": 19,
   "metadata": {},
   "outputs": [],
   "source": [
    "# val_dict = dict.fromkeys(set(ds['train'][\"context\"]),\"\")\n",
    "val_tup = []\n",
    "for i in ds['validation']:\n",
    "    val_tup.append({'context': emp_tag_map[i[\"context\"]],\n",
    "                    'text': i['utterance'].replace('_comma_',', ')})"
   ]
  },
  {
   "attachments": {},
   "cell_type": "markdown",
   "metadata": {},
   "source": [
    "# GoEmotions"
   ]
  },
  {
   "cell_type": "code",
   "execution_count": null,
   "metadata": {},
   "outputs": [],
   "source": []
  },
  {
   "cell_type": "code",
   "execution_count": null,
   "metadata": {},
   "outputs": [],
   "source": []
  }
 ],
 "metadata": {
  "kernelspec": {
   "display_name": "py38",
   "language": "python",
   "name": "python3"
  },
  "language_info": {
   "codemirror_mode": {
    "name": "ipython",
    "version": 3
   },
   "file_extension": ".py",
   "mimetype": "text/x-python",
   "name": "python",
   "nbconvert_exporter": "python",
   "pygments_lexer": "ipython3",
   "version": "3.8.13"
  },
  "orig_nbformat": 4
 },
 "nbformat": 4,
 "nbformat_minor": 2
}
