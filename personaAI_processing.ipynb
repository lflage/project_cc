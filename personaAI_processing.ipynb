{
 "cells": [
  {
   "cell_type": "code",
   "execution_count": 8,
   "metadata": {},
   "outputs": [
    {
     "ename": "TypeError",
     "evalue": "dataclass_transform() got an unexpected keyword argument 'field_specifiers'",
     "output_type": "error",
     "traceback": [
      "\u001b[0;31m---------------------------------------------------------------------------\u001b[0m",
      "\u001b[0;31mTypeError\u001b[0m                                 Traceback (most recent call last)",
      "\u001b[1;32m/netscratch/fonseca/project_cc/personaAI_processing.ipynb Cell 1\u001b[0m in \u001b[0;36m<cell line: 5>\u001b[0;34m()\u001b[0m\n\u001b[1;32m      <a href='vscode-notebook-cell://192.168.33.201:51134/netscratch/fonseca/project_cc/personaAI_processing.ipynb#W0sdnNjb2RlLXJlbW90ZQ%3D%3D?line=1'>2</a>\u001b[0m \u001b[39mimport\u001b[39;00m \u001b[39mpandas\u001b[39;00m \u001b[39mas\u001b[39;00m \u001b[39mpd\u001b[39;00m\n\u001b[1;32m      <a href='vscode-notebook-cell://192.168.33.201:51134/netscratch/fonseca/project_cc/personaAI_processing.ipynb#W0sdnNjb2RlLXJlbW90ZQ%3D%3D?line=2'>3</a>\u001b[0m \u001b[39mfrom\u001b[39;00m \u001b[39mpprint\u001b[39;00m \u001b[39mimport\u001b[39;00m pprint\n\u001b[0;32m----> <a href='vscode-notebook-cell://192.168.33.201:51134/netscratch/fonseca/project_cc/personaAI_processing.ipynb#W0sdnNjb2RlLXJlbW90ZQ%3D%3D?line=4'>5</a>\u001b[0m \u001b[39mimport\u001b[39;00m \u001b[39mutils\u001b[39;00m\u001b[39m.\u001b[39;00m\u001b[39mrun_t5_mlm_flax\u001b[39;00m\n",
      "File \u001b[0;32m/netscratch/fonseca/project_cc/utils/run_t5_mlm_flax.py:37\u001b[0m, in \u001b[0;36m<module>\u001b[0;34m\u001b[0m\n\u001b[1;32m     34\u001b[0m \u001b[39mfrom\u001b[39;00m \u001b[39mpathlib\u001b[39;00m \u001b[39mimport\u001b[39;00m Path\n\u001b[1;32m     35\u001b[0m \u001b[39mfrom\u001b[39;00m \u001b[39mtyping\u001b[39;00m \u001b[39mimport\u001b[39;00m Dict, List, Optional\n\u001b[0;32m---> 37\u001b[0m \u001b[39mimport\u001b[39;00m \u001b[39mflax\u001b[39;00m\n\u001b[1;32m     38\u001b[0m \u001b[39mimport\u001b[39;00m \u001b[39mjax\u001b[39;00m\n\u001b[1;32m     39\u001b[0m \u001b[39mimport\u001b[39;00m \u001b[39mjax\u001b[39;00m\u001b[39m.\u001b[39;00m\u001b[39mnumpy\u001b[39;00m \u001b[39mas\u001b[39;00m \u001b[39mjnp\u001b[39;00m\n",
      "File \u001b[0;32m/opt/conda/lib/python3.8/site-packages/flax/__init__.py:23\u001b[0m, in \u001b[0;36m<module>\u001b[0;34m\u001b[0m\n\u001b[1;32m     17\u001b[0m \u001b[39m# pyformat: disable\u001b[39;00m\n\u001b[1;32m     19\u001b[0m \u001b[39mfrom\u001b[39;00m \u001b[39m.\u001b[39;00m\u001b[39mconfigurations\u001b[39;00m \u001b[39mimport\u001b[39;00m (\n\u001b[1;32m     20\u001b[0m     config \u001b[39mas\u001b[39;00m config,\n\u001b[1;32m     21\u001b[0m )\n\u001b[0;32m---> 23\u001b[0m \u001b[39mfrom\u001b[39;00m \u001b[39m.\u001b[39;00m \u001b[39mimport\u001b[39;00m core\n\u001b[1;32m     24\u001b[0m \u001b[39mfrom\u001b[39;00m \u001b[39m.\u001b[39;00m \u001b[39mimport\u001b[39;00m jax_utils\n\u001b[1;32m     25\u001b[0m \u001b[39mfrom\u001b[39;00m \u001b[39m.\u001b[39;00m \u001b[39mimport\u001b[39;00m linen\n",
      "File \u001b[0;32m/opt/conda/lib/python3.8/site-packages/flax/core/__init__.py:24\u001b[0m, in \u001b[0;36m<module>\u001b[0;34m\u001b[0m\n\u001b[1;32m     15\u001b[0m \u001b[39mfrom\u001b[39;00m \u001b[39m.\u001b[39;00m\u001b[39maxes_scan\u001b[39;00m \u001b[39mimport\u001b[39;00m broadcast \u001b[39mas\u001b[39;00m broadcast\n\u001b[1;32m     16\u001b[0m \u001b[39mfrom\u001b[39;00m \u001b[39m.\u001b[39;00m\u001b[39mfrozen_dict\u001b[39;00m \u001b[39mimport\u001b[39;00m (\n\u001b[1;32m     17\u001b[0m     FrozenDict \u001b[39mas\u001b[39;00m FrozenDict,\n\u001b[1;32m     18\u001b[0m     copy \u001b[39mas\u001b[39;00m copy,\n\u001b[0;32m   (...)\u001b[0m\n\u001b[1;32m     22\u001b[0m     unfreeze \u001b[39mas\u001b[39;00m unfreeze,\n\u001b[1;32m     23\u001b[0m )\n\u001b[0;32m---> 24\u001b[0m \u001b[39mfrom\u001b[39;00m \u001b[39m.\u001b[39;00m\u001b[39mlift\u001b[39;00m \u001b[39mimport\u001b[39;00m (\n\u001b[1;32m     25\u001b[0m     custom_vjp \u001b[39mas\u001b[39;00m custom_vjp,\n\u001b[1;32m     26\u001b[0m     jit \u001b[39mas\u001b[39;00m jit,\n\u001b[1;32m     27\u001b[0m     jvp \u001b[39mas\u001b[39;00m jvp,\n\u001b[1;32m     28\u001b[0m     remat_scan \u001b[39mas\u001b[39;00m remat_scan,\n\u001b[1;32m     29\u001b[0m     remat \u001b[39mas\u001b[39;00m remat,\n\u001b[1;32m     30\u001b[0m     scan \u001b[39mas\u001b[39;00m scan,\n\u001b[1;32m     31\u001b[0m     vjp \u001b[39mas\u001b[39;00m vjp,\n\u001b[1;32m     32\u001b[0m     vmap \u001b[39mas\u001b[39;00m vmap,\n\u001b[1;32m     33\u001b[0m     while_loop \u001b[39mas\u001b[39;00m while_loop,\n\u001b[1;32m     34\u001b[0m )\n\u001b[1;32m     35\u001b[0m \u001b[39mfrom\u001b[39;00m \u001b[39m.\u001b[39;00m\u001b[39mmeta\u001b[39;00m \u001b[39mimport\u001b[39;00m (\n\u001b[1;32m     36\u001b[0m     AxisMetadata \u001b[39mas\u001b[39;00m AxisMetadata,\n\u001b[1;32m     37\u001b[0m     map_axis_meta \u001b[39mas\u001b[39;00m map_axis_meta,\n\u001b[1;32m     38\u001b[0m     unbox \u001b[39mas\u001b[39;00m unbox,\n\u001b[1;32m     39\u001b[0m )\n\u001b[1;32m     40\u001b[0m \u001b[39mfrom\u001b[39;00m \u001b[39m.\u001b[39;00m\u001b[39mscope\u001b[39;00m \u001b[39mimport\u001b[39;00m (\n\u001b[1;32m     41\u001b[0m     Array \u001b[39mas\u001b[39;00m Array,\n\u001b[1;32m     42\u001b[0m     DenyList \u001b[39mas\u001b[39;00m DenyList,\n\u001b[0;32m   (...)\u001b[0m\n\u001b[1;32m     47\u001b[0m     lazy_init \u001b[39mas\u001b[39;00m lazy_init,\n\u001b[1;32m     48\u001b[0m )\n",
      "File \u001b[0;32m/opt/conda/lib/python3.8/site-packages/flax/core/lift.py:41\u001b[0m, in \u001b[0;36m<module>\u001b[0;34m\u001b[0m\n\u001b[1;32m     38\u001b[0m \u001b[39mfrom\u001b[39;00m \u001b[39mjax\u001b[39;00m \u001b[39mimport\u001b[39;00m random\n\u001b[1;32m     40\u001b[0m \u001b[39mfrom\u001b[39;00m \u001b[39m.\u001b[39;00m \u001b[39mimport\u001b[39;00m axes_scan\n\u001b[0;32m---> 41\u001b[0m \u001b[39mfrom\u001b[39;00m \u001b[39m.\u001b[39;00m \u001b[39mimport\u001b[39;00m meta\n\u001b[1;32m     42\u001b[0m \u001b[39mfrom\u001b[39;00m \u001b[39m.\u001b[39;00m\u001b[39mfrozen_dict\u001b[39;00m \u001b[39mimport\u001b[39;00m freeze\n\u001b[1;32m     43\u001b[0m \u001b[39mfrom\u001b[39;00m \u001b[39m.\u001b[39;00m\u001b[39mfrozen_dict\u001b[39;00m \u001b[39mimport\u001b[39;00m unfreeze\n",
      "File \u001b[0;32m/opt/conda/lib/python3.8/site-packages/flax/core/meta.py:29\u001b[0m, in \u001b[0;36m<module>\u001b[0;34m\u001b[0m\n\u001b[1;32m     26\u001b[0m \u001b[39mfrom\u001b[39;00m \u001b[39mtyping\u001b[39;00m \u001b[39mimport\u001b[39;00m Any, Callable, Dict, Mapping, Optional, Tuple, TypeVar, Union\n\u001b[1;32m     28\u001b[0m \u001b[39mfrom\u001b[39;00m \u001b[39mflax\u001b[39;00m \u001b[39mimport\u001b[39;00m errors\n\u001b[0;32m---> 29\u001b[0m \u001b[39mfrom\u001b[39;00m \u001b[39mflax\u001b[39;00m \u001b[39mimport\u001b[39;00m struct\n\u001b[1;32m     30\u001b[0m \u001b[39mimport\u001b[39;00m \u001b[39mjax\u001b[39;00m\n\u001b[1;32m     31\u001b[0m \u001b[39mfrom\u001b[39;00m \u001b[39mjax\u001b[39;00m\u001b[39m.\u001b[39;00m\u001b[39mexperimental\u001b[39;00m \u001b[39mimport\u001b[39;00m maps\n",
      "File \u001b[0;32m/opt/conda/lib/python3.8/site-packages/flax/struct.py:33\u001b[0m, in \u001b[0;36m<module>\u001b[0;34m\u001b[0m\n\u001b[1;32m     29\u001b[0m \u001b[39mdef\u001b[39;00m \u001b[39mfield\u001b[39m(pytree_node\u001b[39m=\u001b[39m\u001b[39mTrue\u001b[39;00m, \u001b[39m*\u001b[39m\u001b[39m*\u001b[39mkwargs):\n\u001b[1;32m     30\u001b[0m   \u001b[39mreturn\u001b[39;00m dataclasses\u001b[39m.\u001b[39mfield(metadata\u001b[39m=\u001b[39m{\u001b[39m'\u001b[39m\u001b[39mpytree_node\u001b[39m\u001b[39m'\u001b[39m: pytree_node}, \u001b[39m*\u001b[39m\u001b[39m*\u001b[39mkwargs)\n\u001b[0;32m---> 33\u001b[0m \u001b[39m@dataclass_transform\u001b[39m(field_specifiers\u001b[39m=\u001b[39;49m(field,))  \u001b[39m# type: ignore[literal-required]\u001b[39;00m\n\u001b[1;32m     34\u001b[0m \u001b[39mdef\u001b[39;00m \u001b[39mdataclass\u001b[39m(clz: _T) \u001b[39m-\u001b[39m\u001b[39m>\u001b[39m _T:\n\u001b[1;32m     35\u001b[0m \u001b[39m  \u001b[39m\u001b[39m\"\"\"Create a class which can be passed to functional transformations.\u001b[39;00m\n\u001b[1;32m     36\u001b[0m \n\u001b[1;32m     37\u001b[0m \u001b[39m  NOTE: Inherit from ``PyTreeNode`` instead to avoid type checking issues when\u001b[39;00m\n\u001b[0;32m   (...)\u001b[0m\n\u001b[1;32m     94\u001b[0m \u001b[39m    The new class.\u001b[39;00m\n\u001b[1;32m     95\u001b[0m \u001b[39m  \"\"\"\u001b[39;00m\n\u001b[1;32m     96\u001b[0m   \u001b[39m# check if already a flax dataclass\u001b[39;00m\n",
      "\u001b[0;31mTypeError\u001b[0m: dataclass_transform() got an unexpected keyword argument 'field_specifiers'"
     ]
    }
   ],
   "source": [
    "import json\n",
    "import pandas as pd\n",
    "from pprint import pprint\n",
    "\n",
    "import utils.run_t5_mlm_flax"
   ]
  },
  {
   "cell_type": "code",
   "execution_count": 2,
   "metadata": {},
   "outputs": [],
   "source": [
    "\n",
    "with open('./datasets/raw/personachat_self_original.json','r') as f:\n",
    "    a = json.loads(f.read())"
   ]
  },
  {
   "cell_type": "code",
   "execution_count": 3,
   "metadata": {},
   "outputs": [],
   "source": [
    "def persona_samples(file, split='train'):\n",
    "    for dialogue in a[split]:\n",
    "        persona = \" \".join(dialogue ['personality'])\n",
    "        history = dialogue['utterances'][-1]['history']\n",
    "        # dio_samples = [\"<persona> \" + persona + \"<history> \" + history[i] for i in range(0,len(history),2)]\n",
    "        curr_history = []\n",
    "        for i in range(1,len(history),2):\n",
    "            curr_history.append(history[i-1])\n",
    "            yield \"<persona> \" + persona + \"< history> \" + \" \".join(curr_history) + \" <answer> \" + history[i]\n",
    "            curr_history.append(history[i])\n",
    "    \n"
   ]
  },
  {
   "cell_type": "code",
   "execution_count": 4,
   "metadata": {},
   "outputs": [],
   "source": [
    "with open(\"./datasets/processed/personaAI/train.json\", 'w') as f:\n",
    "    for sample in persona_samples(a):\n",
    "        f.write(json.dumps({\"text\":sample} ))\n",
    "        f.write(\"\\n\")\n",
    "\n"
   ]
  },
  {
   "cell_type": "code",
   "execution_count": 5,
   "metadata": {},
   "outputs": [],
   "source": [
    "with open(\"./datasets/processed/personaAI/valid.json\", 'w') as f:\n",
    "    for sample in persona_samples(a,split='valid'):\n",
    "        f.write(json.dumps({\"text\":sample} ))\n",
    "        f.write(\"\\n\")\n"
   ]
  },
  {
   "cell_type": "code",
   "execution_count": 6,
   "metadata": {},
   "outputs": [
    {
     "name": "stderr",
     "output_type": "stream",
     "text": [
      "/opt/conda/lib/python3.8/site-packages/tqdm/auto.py:22: TqdmWarning: IProgress not found. Please update jupyter and ipywidgets. See https://ipywidgets.readthedocs.io/en/stable/user_install.html\n",
      "  from .autonotebook import tqdm as notebook_tqdm\n",
      "Downloading data files: 100%|██████████| 2/2 [00:00<00:00, 3835.67it/s]\n",
      "Extracting data files: 100%|██████████| 2/2 [00:00<00:00, 82.88it/s]\n",
      "Generating train split: 113560 examples [00:00, 383090.45 examples/s]\n",
      "Generating validation split: 6801 examples [00:00, 333023.51 examples/s]\n"
     ]
    }
   ],
   "source": [
    "from datasets import load_dataset, Features, Value\n",
    "# context_feat = Features({'text': Value(dtype='strcontext_feat = Features({'text': Value(dtype='string', id=None)})ing', id=None)})\n",
    "personaAI = load_dataset('json', data_files={'train':'./datasets/processed/personaAI/train.json',\n",
    "                                        'validation':\"./datasets/processed/personaAI/valid.json\"}\n",
    "                        )"
   ]
  },
  {
   "cell_type": "code",
   "execution_count": 8,
   "metadata": {},
   "outputs": [
    {
     "data": {
      "text/plain": [
       "{'text': \"<persona> i like to remodel homes . i like to go hunting . i like to shoot a bow . my favorite holiday is halloween .< history> hi , how are you doing ? i'm getting ready to do some cheetah chasing to stay in shape . <answer> you must be very fast . hunting is one of my favorite hobbies .\"}"
      ]
     },
     "execution_count": 8,
     "metadata": {},
     "output_type": "execute_result"
    }
   ],
   "source": [
    "personaAI['train'][0]"
   ]
  },
  {
   "cell_type": "code",
   "execution_count": 41,
   "metadata": {},
   "outputs": [
    {
     "name": "stdout",
     "output_type": "stream",
     "text": [
      "<persona> i like to remodel homes . i like to go hunting . i like to shoot a bow . my favorite holiday is halloween .< history> hi , how are you doing ? i'm getting ready to do some cheetah chasing to stay in shape . <answer> you must be very fast . hunting is one of my favorite hobbies .\n"
     ]
    },
    {
     "data": {
      "text/plain": [
       "\"<unk>persona> i like to remodel homes. i like to go hunting. i like to shoot a bow. my favorite holiday is halloween.<unk> history> hi, how are you doing? i'm getting ready to do some cheetah chasing to stay in shape. <unk>answer> you must be very fast. hunting is one of my favorite hobbies.</s>\""
      ]
     },
     "execution_count": 41,
     "metadata": {},
     "output_type": "execute_result"
    }
   ],
   "source": [
    "print(personaAI['train'][0]['text'])\n",
    "tokenizer.decode(tokenizer(personaAI['train'][0]['text']).input_ids)"
   ]
  }
 ],
 "metadata": {
  "kernelspec": {
   "display_name": "base",
   "language": "python",
   "name": "python3"
  },
  "language_info": {
   "codemirror_mode": {
    "name": "ipython",
    "version": 3
   },
   "file_extension": ".py",
   "mimetype": "text/x-python",
   "name": "python",
   "nbconvert_exporter": "python",
   "pygments_lexer": "ipython3",
   "version": "3.8.12 | packaged by conda-forge | (default, Jan 30 2022, 23:42:07) \n[GCC 9.4.0]"
  },
  "orig_nbformat": 4,
  "vscode": {
   "interpreter": {
    "hash": "d4d1e4263499bec80672ea0156c357c1ee493ec2b1c70f0acce89fc37c4a6abe"
   }
  }
 },
 "nbformat": 4,
 "nbformat_minor": 2
}
