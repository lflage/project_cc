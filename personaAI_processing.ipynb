{
 "cells": [
  {
   "cell_type": "code",
   "execution_count": 1,
   "metadata": {},
   "outputs": [],
   "source": [
    "import json\n",
    "import pandas as pd\n",
    "from pprint import pprint\n",
    "\n",
    "# import utils.run_t5_mlm_flax"
   ]
  },
  {
   "cell_type": "code",
   "execution_count": 2,
   "metadata": {},
   "outputs": [],
   "source": [
    "\n",
    "with open('./datasets/raw/personachat_self_original.json','r') as f:\n",
    "    a = json.loads(f.read())"
   ]
  },
  {
   "cell_type": "code",
   "execution_count": 3,
   "metadata": {},
   "outputs": [],
   "source": [
    "def persona_samples(file, split='train'):\n",
    "    for dialogue in a[split]:\n",
    "        persona = \" \".join(dialogue ['personality'])\n",
    "        history = dialogue['utterances'][-1]['history']\n",
    "        # dio_samples = [\"<persona> \" + persona + \"<history> \" + history[i] for i in range(0,len(history),2)]\n",
    "        curr_history = []\n",
    "        for i in range(1,len(history),2):\n",
    "            curr_history.append(history[i-1])\n",
    "            yield (\"<persona> \" + persona + \"< history> \" + \" \".join(curr_history), history[i])\n",
    "            curr_history.append(history[i])\n",
    "    \n"
   ]
  },
  {
   "cell_type": "code",
   "execution_count": 4,
   "metadata": {},
   "outputs": [],
   "source": [
    "with open(\"./datasets/processed/personaAI/train.json\", 'w') as f:\n",
    "    for input_text, target in persona_samples(a,split='valid'):\n",
    "        f.write(json.dumps({\"text\":input_text, \"target\":target} ))\n",
    "        f.write(\"\\n\")\n",
    "\n"
   ]
  },
  {
   "cell_type": "code",
   "execution_count": 5,
   "metadata": {},
   "outputs": [],
   "source": [
    "with open(\"./datasets/processed/personaAI/valid.json\", 'w') as f:\n",
    "    for input_text, target in persona_samples(a,split='valid'):\n",
    "        f.write(json.dumps({\"text\":input_text, \"target\":target} ))\n",
    "        f.write(\"\\n\")\n"
   ]
  },
  {
   "cell_type": "code",
   "execution_count": 6,
   "metadata": {},
   "outputs": [
    {
     "name": "stderr",
     "output_type": "stream",
     "text": [
      "/opt/conda/lib/python3.8/site-packages/tqdm/auto.py:22: TqdmWarning: IProgress not found. Please update jupyter and ipywidgets. See https://ipywidgets.readthedocs.io/en/stable/user_install.html\n",
      "  from .autonotebook import tqdm as notebook_tqdm\n",
      "Downloading data files: 100%|██████████| 2/2 [00:00<00:00, 1253.15it/s]\n",
      "Extracting data files: 100%|██████████| 2/2 [00:00<00:00, 91.24it/s]\n",
      "Generating train split: 6801 examples [00:00, 228412.00 examples/s]\n",
      "Generating validation split: 6801 examples [00:00, 202999.30 examples/s]\n"
     ]
    }
   ],
   "source": [
    "from datasets import load_dataset\n",
    "personaAI = load_dataset('json', data_files={'train':'./datasets/processed/personaAI/train.json',\n",
    "                                        'validation':\"./datasets/processed/personaAI/valid.json\"}\n",
    "                        )"
   ]
  },
  {
   "cell_type": "code",
   "execution_count": 7,
   "metadata": {},
   "outputs": [
    {
     "data": {
      "text/plain": [
       "{'text': \"<persona> i read twenty books a year . i'm a stunt double as my second job . i only eat kosher . i was raised in a single parent household .< history> hello what are doing today ?\",\n",
       " 'target': 'i am good , i just got off work and tired , i have two jobs .'}"
      ]
     },
     "execution_count": 7,
     "metadata": {},
     "output_type": "execute_result"
    }
   ],
   "source": [
    "personaAI['train'][0]"
   ]
  }
 ],
 "metadata": {
  "kernelspec": {
   "display_name": "base",
   "language": "python",
   "name": "python3"
  },
  "language_info": {
   "codemirror_mode": {
    "name": "ipython",
    "version": 3
   },
   "file_extension": ".py",
   "mimetype": "text/x-python",
   "name": "python",
   "nbconvert_exporter": "python",
   "pygments_lexer": "ipython3",
   "version": "3.8.12"
  },
  "orig_nbformat": 4,
  "vscode": {
   "interpreter": {
    "hash": "d4d1e4263499bec80672ea0156c357c1ee493ec2b1c70f0acce89fc37c4a6abe"
   }
  }
 },
 "nbformat": 4,
 "nbformat_minor": 2
}
